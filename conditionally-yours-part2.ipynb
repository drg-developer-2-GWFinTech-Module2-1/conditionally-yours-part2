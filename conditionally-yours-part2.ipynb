{
 "cells": [
  {
   "cell_type": "code",
   "execution_count": 13,
   "metadata": {},
   "outputs": [
    {
     "name": "stdout",
     "output_type": "stream",
     "text": [
      "Netflix's original stock price was $360.35\n",
      "Netflix's current stock price is $360.35\n",
      "Netflix's percent increase is $-18.5985847093104%\n",
      "Recommendation: sell\n",
      "\n"
     ]
    }
   ],
   "source": [
    "\"\"\"\n",
    "Conditionally Yours\n",
    "\n",
    "Pseudocode:\n",
    "\n",
    "\n",
    "\"\"\"\n",
    "\n",
    "balance=100000\n",
    "\n",
    "\n",
    "# Increase = Current Price - Original Price\n",
    "# Percent Increase = Increase / Original x 100\n",
    "increase=current_price-original_price\n",
    "percent_increase=100 * increase/original_price\n",
    "recommendation=\"hold\"\n",
    "\n",
    "# Create integer variable for original_price\n",
    "original_price=360.35\n",
    "\n",
    "\n",
    "# Create integer variable for current_price\n",
    "current_price=293.33\n",
    "\n",
    "\n",
    "# Create float for threshold_to_buy\n",
    "threshold_to_buy=20.0\n",
    "threshold_to_purchase=0\n",
    "\n",
    "\n",
    "# Create float for threshold_to_sell\n",
    "\n",
    "\n",
    "# Create float for portfolio balance\n",
    "\n",
    "\n",
    "# Create float for balance check\n",
    "\n",
    "\n",
    "# Create string for recommendation, default will be buy\n",
    "recommendation = \"buy\"\n",
    "\n",
    "# Calculate difference between current_price and original_price\n",
    "\n",
    "\n",
    "# Calculate percent increase\n",
    "\n",
    "\n",
    "# Print original_price\n",
    "print(f\"Netflix's original stock price was ${original_price}\")\n",
    "\n",
    "# Print current_price\n",
    "print(f\"Netflix's current stock price is ${original_price}\")\n",
    "\n",
    "\n",
    "# Print percent increase\n",
    "print(f\"Netflix's percent increase is ${percent_increase}%\")\n",
    "\n",
    "\n",
    "#Compare percent_increase to threshold.\n",
    "#Set recommendation to equal \"buy\" or \"sell\" based on your Step 5 evaluation.\n",
    "#Print recommendation.\n",
    "if percent_increase >= threshold_to_buy and balance >= 5 * current_price:\n",
    "    recommendation=\"buy\"\n",
    "else:\n",
    "    recommendation=\"sell\"\n",
    "\n",
    "# Determine if stock should be bought or sold\n",
    "\n",
    "\n",
    "# Print recommendation\n",
    "print(\"Recommendation: \" + recommendation)\n",
    "print()\n"
   ]
  },
  {
   "cell_type": "code",
   "execution_count": null,
   "metadata": {},
   "outputs": [],
   "source": []
  },
  {
   "cell_type": "code",
   "execution_count": null,
   "metadata": {},
   "outputs": [],
   "source": []
  },
  {
   "cell_type": "code",
   "execution_count": null,
   "metadata": {},
   "outputs": [],
   "source": []
  },
  {
   "cell_type": "code",
   "execution_count": null,
   "metadata": {},
   "outputs": [],
   "source": []
  },
  {
   "cell_type": "code",
   "execution_count": null,
   "metadata": {},
   "outputs": [],
   "source": []
  },
  {
   "cell_type": "code",
   "execution_count": null,
   "metadata": {},
   "outputs": [],
   "source": []
  },
  {
   "cell_type": "code",
   "execution_count": null,
   "metadata": {},
   "outputs": [],
   "source": []
  },
  {
   "cell_type": "code",
   "execution_count": null,
   "metadata": {},
   "outputs": [],
   "source": []
  },
  {
   "cell_type": "code",
   "execution_count": null,
   "metadata": {},
   "outputs": [],
   "source": []
  },
  {
   "cell_type": "code",
   "execution_count": null,
   "metadata": {},
   "outputs": [],
   "source": []
  },
  {
   "cell_type": "code",
   "execution_count": null,
   "metadata": {},
   "outputs": [],
   "source": []
  },
  {
   "cell_type": "code",
   "execution_count": null,
   "metadata": {},
   "outputs": [],
   "source": []
  }
 ],
 "metadata": {
  "kernelspec": {
   "display_name": "Python 3",
   "language": "python",
   "name": "python3"
  },
  "language_info": {
   "codemirror_mode": {
    "name": "ipython",
    "version": 3
   },
   "file_extension": ".py",
   "mimetype": "text/x-python",
   "name": "python",
   "nbconvert_exporter": "python",
   "pygments_lexer": "ipython3",
   "version": "3.7.7"
  }
 },
 "nbformat": 4,
 "nbformat_minor": 4
}
